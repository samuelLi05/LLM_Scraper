{
 "cells": [
  {
   "cell_type": "code",
   "execution_count": null,
   "metadata": {},
   "outputs": [],
   "source": [
    "import requests\n",
    "from bs4 import BeautifulSoup\n",
    "from googlesearch import search\n",
    "from tqdm import tqdm\n",
    "\n",
    "# Running Local deepseek 14b model. Specs, intel i9-14900k, Nvidia RTX 4080, 64 gb DDR 5600 MHZ RAM\n",
    "def call_ollama(prompt, model='deepseek-r1:14b'):\n",
    "    response = requests.post(\n",
    "        'http://localhost:11434/api/generate',\n",
    "        json={\n",
    "            'model': model,\n",
    "            'prompt': prompt,\n",
    "            'stream': False\n",
    "        }\n",
    "    )\n",
    "    return response.json()['response']\n",
    "\n",
    "# Deepseek to reccommend search query\n",
    "def interpret_user_query(user_input):\n",
    "    prompt = f\"\"\"\n",
    "    You are a smart assistant helping with product discovery, specifically for prototyping intial products for a startup. You have knowledge in the field in which the\n",
    "    user asks and knowledgable of the current landscape of the product. This is to improve the act of gathering necessary supplies for prototyping a viable product \n",
    "    based on user inputted conditions. The user said:\n",
    "    '{user_input}'\n",
    "    Convert this into a specific product search query and list key product attributes to look for. Don't add ther URLS here but these should be things to get exact products when inputted into\n",
    "    a search engine to provided the user with their desired product. The list must adhere to this format: number . thing to search \n",
    "    1. search1\n",
    "    2. search2\n",
    "    3. search3\n",
    "    4. search4\n",
    "    5. search5\n",
    "    This list should only contain the URLS to search for. Look for pricing and criteria factors as well. Provide brief reasoning for these generated entries to search for. \n",
    "    \"\"\"\n",
    "    return call_ollama(prompt)\n",
    "\n",
    "# model feedback to make a decision\n",
    "def provide_feedback(feedback_input, urls, summary):\n",
    "    prompt = f\"\"\"\n",
    "    As a smart assistant helping with shopping for supplies for prototyping a viable product for startups. The user said:\n",
    "    '{feedback_input}' which was based on the urls here: {urls} which in turn was oringally created off ofthis query response: {summary}. \n",
    "    Make reccomendations based on this feedback to find a good product \n",
    "    \"\"\"\n",
    "\n",
    "    return call_ollama(prompt)\n",
    "import re\n",
    "def extract_entries(text):\n",
    "    pattern = r\"^\\d+\\.\\s*(.+)$\"\n",
    "    entries = re.findall(pattern, text, re.MULTILINE)  #re.MULTILINE to handle multiple lines\n",
    "    return entries\n",
    "\n",
    "# Google\n",
    "def get_search_results(query, num_results=5):\n",
    "    return list(search(query, num_results=num_results))\n",
    "\n",
    "# Web Scraper\n",
    "def scrape_product_data(url):\n",
    "    try:\n",
    "        headers = {'User-Agent': 'Mozilla/5.0'}\n",
    "        response = requests.get(url, headers=headers)\n",
    "        soup = BeautifulSoup(response.text, 'html.parser')\n",
    "        paragraphs = soup.find_all('p')\n",
    "        summary = ' '.join(p.get_text(strip=True) for p in paragraphs[:10])\n",
    "        price_tags = soup.find_all(\n",
    "            lambda tag: tag.name in ['span', 'div'] and any('price' in x.lower() for x in tag.get('class', []) + tag.get('id', '').split())\n",
    "        )\n",
    "        prices = [tag.get_text(strip=True) for tag in price_tags if tag.get_text(strip=True)]\n",
    "\n",
    "        return {\n",
    "            \"summary\": summary,\n",
    "            \"prices\": prices\n",
    "        }\n",
    "\n",
    "    except Exception as e:\n",
    "        return {\"error\": f\"Error scraping {url}: {str(e)}\"}\n",
    "\n",
    "# -Summarizing web results\n",
    "def summarize_scraped_data(scraped_data, original_query, products):\n",
    "    prompt = f\"\"\"\n",
    "    Given the following product info:\n",
    "    {scraped_data}\n",
    "    Extract the product's purpose, key specs, pros and cons in bullet points. Compare this to other products and give reasons for why each product is best for its use case. \n",
    "    The oriingal query that contains the criterai and impetus for the product being searched is here: {original_query}. The list of products urls that we are researching is {products}. Now\n",
    "    there will be repeat products but likley from different vendors. In this case, examine the pricing differences and shipping times, and customer reviews for each vendor. Ensure that if repeats are found\n",
    "    we only compare the vendors and only find unique data that is not found within other entries. There are price fields returned under price: , check to see that these numbers are consistent and\n",
    "    display them if the remain consistent with the actual pricing of the product. \n",
    "    \"\"\"\n",
    "    return call_ollama(prompt)\n",
    "\n"
   ]
  },
  {
   "cell_type": "code",
   "execution_count": 2,
   "metadata": {},
   "outputs": [
    {
     "name": "stdout",
     "output_type": "stream",
     "text": [
      "\n",
      "[1] Interpreting query...\n",
      "1. Stainless Steel Precision Screws\n",
      "2. Brass Machine Screws\n",
      "3. Fine Thread Screws for Small Scale Models\n",
      "4. Coarse Thread Machine Screws\n",
      "5. McMaster-Carr Tiny Screws for Architecture Models\n",
      "\n",
      "[2] Researching Reccommended Products\n",
      "[1] https://www.fastenersuperstore.com/products/812220/precision-shoulder-screws?srsltid=AfmBOooATMp_UEJ_gYsFC4hCzinppmcZhJE0oOOpp0au1cDo2LaddM8t\n",
      "[2] https://www.aftfasteners.com/precision-shoulder-screws/\n",
      "[3] https://accu-components.com/us/precision-slotted-shoulder-screws/50458-SFHZ-M5-6-A2\n",
      "[4] https://www.mcmaster.com/products/precision-bolts/\n",
      "[5] https://www.wmberg.com/products/fasteners-and-hardware/screws\n",
      "[6] https://www.fastenere.com/14-20-slotted-round-head-machine-screws-solid-brass?srsltid=AfmBOorscHHs9U4gNL1qF7kXsx8bkBfiXmR4gyEREilGcFr0yeFsXEK8\n",
      "[7] https://www.aspenfasteners.com/shop-by-material/brass/?srsltid=AfmBOooChp_85ebcBfNJLdIgURO908Bl9tgy4bIa0veVQjRzC-tNY3yv\n",
      "[8] https://www.google.com/search?num=7\n",
      "[9] https://www.mcmaster.com/products/brass-machine-screws/\n",
      "[10] https://boltdepot.com/Machine_screws_Slotted_round_head_Brass_8-32?srsltid=AfmBOopwDQKAhx-xLbEQQN_FjR-Y7w7fOq6hDx9rQOHcDtWW9x6DYhou\n",
      "[11] https://www.amazon.com/Miniature-Screws/s?k=Miniature+Screws\n",
      "[12] https://www.homedepot.com/b/Hardware-Fasteners-Screws/Fine-Thread/N-5yc1vZc2b0Z1z1z4j6\n",
      "[13] https://www.usmicroscrew.com/\n",
      "[14] https://cs.finescale.com/fsm/tools_techniques_and_reference_materials/f/53/t/163525.aspx\n",
      "[15] https://forum.bambulab.com/t/what-kind-of-screws-should-be-prepared-for-small-projects/34494\n",
      "[16] https://www.homedepot.com/b/Hardware-Fasteners-Screws-Machine-Screws/Coarse/N-5yc1vZc27iZ1z0ygob\n",
      "[17] https://www.fastcoinc.com/screws/machine-screws\n",
      "[18] https://www.amazon.com/Machine-Phillips-Stainless-Finish%EF%BC%8C-Threaded/dp/B08NV53LVL\n",
      "[19] https://www.asmc.net/m2-5-x-0-45-x-4-coarse-thread-iso-7045-machine-screw-6-lobe-pan-head-stainless-steel-18-8/\n",
      "[20] https://boltdepot.com/Machine_screws_Phillips_flat_head_Stainless_steel_18-8_Coarse_(standard)_thread?srsltid=AfmBOoptb6_88jQbkXLWMDHC-zdyetBEYBvgCBEeF7qgiHJYS3zdDZmW\n",
      "[21] https://www.mcmaster.com/products/miniature-screws/\n",
      "[22] https://www.mcmaster.com/products/screws/\n",
      "[23] https://www.mcmaster.com/products/miniature-bolts/\n",
      "[24] https://www.reddit.com/r/AskEngineers/comments/132yx4j/mcmastercarr_bulkproduction_machine_screw/\n",
      "[25] https://www.mcmaster.com/\n",
      "\n",
      "[3] Scraping and summarizing...\n"
     ]
    },
    {
     "name": "stderr",
     "output_type": "stream",
     "text": [
      "  4%|▍         | 1/25 [00:33<13:31, 33.81s/it]"
     ]
    },
    {
     "name": "stdout",
     "output_type": "stream",
     "text": [
      "\n",
      "Summary from https://www.fastenersuperstore.com/products/812220/precision-shoulder-screws?srsltid=AfmBOooATMp_UEJ_gYsFC4hCzinppmcZhJE0oOOpp0au1cDo2LaddM8t:\n",
      "1. 1/8 inch diameter precision screws with 0.156 thread length  \n",
      "2. High-quality 1/8 inch screw for scale models, fast shipping  \n",
      "3. Precision 1/8 inch diameter screw with non-lead material  \n",
      "4. McMaster-Carr 1/8 inch diameter screw, quick delivery  \n",
      "5. Stainless steel 1/8 inch screw with 0.156 thread length  \n",
      "\n",
      "**Reasoning**: Each search query targets specific attributes like diameter, thread length, material, and vendor reliability to find the most suitable screws for architectural models while considering practicality factors like shipping speed and safety standards.\n",
      "\n"
     ]
    },
    {
     "name": "stderr",
     "output_type": "stream",
     "text": [
      "  8%|▊         | 2/25 [01:04<12:16, 32.01s/it]"
     ]
    },
    {
     "name": "stdout",
     "output_type": "stream",
     "text": [
      "\n",
      "Summary from https://www.aftfasteners.com/precision-shoulder-screws/:\n",
      "1. precision stainless steel shoulder screws  \n",
      "2. slotted vs socket drive shoulder screws comparison  \n",
      "3. scale model building fasteners stainless steel #4-#10  \n",
      "4. reliable suppliers for miniature machine screws  \n",
      "5. bulk pricing on precision shoulder screws  \n",
      "\n",
      "**Reasoning:**\n",
      "- **1. precision stainless steel shoulder screws:** Directly targets the material and type needed, ensuring results are specific to high-quality options.\n",
      "- **2. slotted vs socket drive shoulder screws comparison:** Helps determine which drive type suits their application best by comparing the two common types.\n",
      "- **3. scale model building fasteners stainless steel #4-#10:** Tailored for their niche, focusing on sizes suitable for precise scale models.\n",
      "- **4. reliable suppliers for miniature machine screws:** Ensures they find trustworthy vendors with small screw options, crucial for detailed models.\n",
      "- **5. bulk pricing on precision shoulder screws:** Focuses on cost efficiency when purchasing in larger quantities, beneficial for startups needing multiple units.\n",
      "\n",
      "This structured approach ensures the user efficiently finds products that meet their project's exact requirements.\n",
      "\n"
     ]
    },
    {
     "name": "stderr",
     "output_type": "stream",
     "text": [
      " 12%|█▏        | 3/25 [01:44<13:05, 35.71s/it]"
     ]
    },
    {
     "name": "stdout",
     "output_type": "stream",
     "text": [
      "\n",
      "Summary from https://accu-components.com/us/precision-slotted-shoulder-screws/50458-SFHZ-M5-6-A2:\n",
      "1. **McMaster-Carr precision shoulder screws**  \n",
      "   - Reason: McMaster-Carr offers a wide range of precise, high-quality screws, including shoulder screws, which are ideal for structural integrity in scale models.\n",
      "\n",
      "2. **US Microscrew miniature machine screws**  \n",
      "   - Reason: US Microscrew specializes in small and precise screws, perfect for the detailed work required in scale model building.\n",
      "\n",
      "3. **Stainless steel machine screws McMaster-Carr**  \n",
      "   - Reason: Stainless steel ensures durability and resistance to corrosion, making them suitable for outdoor or high-stress models.\n",
      "\n",
      "4. **Brass slotted shoulder screws Fastenere**  \n",
      "   - Reason: Brass offers a durable and aesthetically pleasing option, which is great for adding visual appeal to scale models.\n",
      "\n",
      "5. **Machine screws McMaster-Carr**  \n",
      "   - Reason: McMaster-Carr provides a variety of machine screws at competitive prices, offering flexibility in size and material choices for different project needs.\n",
      "\n"
     ]
    },
    {
     "name": "stderr",
     "output_type": "stream",
     "text": [
      " 16%|█▌        | 4/25 [02:22<12:44, 36.40s/it]"
     ]
    },
    {
     "name": "stdout",
     "output_type": "stream",
     "text": [
      "\n",
      "Summary from https://www.mcmaster.com/products/precision-bolts/:\n",
      "Here’s a list of product search queries and key attributes to look for based on your needs:\n",
      "\n",
      "1. precision shoulder screws  \n",
      "2. small scale model screws  \n",
      "3. durable miniature construction screws  \n",
      "4. stainless steel miniature screws  \n",
      "5. brass precision screws  \n",
      "6. affordable precision screws  \n",
      "7. low-cost miniature screws  \n",
      "8. bulk scale model screws  \n",
      "\n",
      "These search terms are designed to help you find precise, durable, and cost-effective screws for your architecture startup. Focus on stainless steel or brass options for durability, and consider \"affordable\" or \"low-cost\" if budget constraints are a concern.\n",
      "\n"
     ]
    },
    {
     "name": "stderr",
     "output_type": "stream",
     "text": [
      " 20%|██        | 5/25 [02:55<11:43, 35.20s/it]"
     ]
    },
    {
     "name": "stdout",
     "output_type": "stream",
     "text": [
      "\n",
      "Summary from https://www.wmberg.com/products/fasteners-and-hardware/screws:\n",
      "1. Miniature precision machine screws  \n",
      "2. Fine thread M5 size screws for models  \n",
      "3. Stainless steel slotted shoulder screws  \n",
      "4. Brass miniature machine screws  \n",
      "5. Precision pan head screws M2-5 x 0.45 x 4  \n",
      "\n",
      "**Reasoning:**\n",
      "1. **Miniature precision machine screws**: Targets small, precise screws suitable for detailed scale models.\n",
      "2. **Fine thread M5 size screws for models**: Specifies exact size and thread type for accurate fitment.\n",
      "3. **Stainless steel slotted shoulder screws**: Focuses on durability and specific head style for reliability.\n",
      "4. **Brass miniature machine screws**: Emphasizes corrosion resistance and small size for model use.\n",
      "5. **Precision pan head screws M2-5 x 0.45 x 4**: Exact dimensions and thread specifications ensure proper fit in scale models.\n",
      "\n",
      "These search terms are designed to yield results that match the user's need for precise, reliable, and appropriately sized screws for their architecture startup projects.\n",
      "\n"
     ]
    },
    {
     "name": "stderr",
     "output_type": "stream",
     "text": [
      " 24%|██▍       | 6/25 [03:33<11:27, 36.18s/it]"
     ]
    },
    {
     "name": "stdout",
     "output_type": "stream",
     "text": [
      "\n",
      "Summary from https://www.fastenere.com/14-20-slotted-round-head-machine-screws-solid-brass?srsltid=AfmBOorscHHs9U4gNL1qF7kXsx8bkBfiXmR4gyEREilGcFr0yeFsXEK8:\n",
      "Here’s a list of specific product searches and key attributes to look for when searching for well-machined screws suitable for scale replicas in architecture:\n",
      "\n",
      "1. **\"precision machine screws M2 M3 brass Fastenere\"**  \n",
      "   - Reason: Searching for small, precise brass screws from Fastenere.com, which are ideal for scale models.\n",
      "\n",
      "2. **\"McMaster precision bolts M2-M3 size range\"**  \n",
      "   - Reason: McMaster is known for high-quality, well-machined bolts in a variety of sizes, perfect for architectural scale replicas.\n",
      "\n",
      "3. **\"Bolt Depot Phillips flat head stainless steel screws M2-M3\"**  \n",
      "   - Reason: Stainless steel screws from Bolt Depot are durable and resistant to corrosion, suitable for precise applications.\n",
      "\n",
      "4. **\"Aspen Fasteners brass machine screws M2-M3\"**  \n",
      "   - Reason: Aspen Fasteners offers reliable brass screws in small sizes, ideal for scale models.\n",
      "\n",
      "5. **\"14-20 slotted round head machine screws brass Fastenere\"**  \n",
      "   - Reason: Specifically targeting the 14-20 slotted brass screws from Fastenere.com, which are well-suited for precise architectural replicas.\n",
      "\n",
      "These searches will help you find products that meet your criteria of precision, material, and size requirements.\n",
      "\n"
     ]
    },
    {
     "name": "stderr",
     "output_type": "stream",
     "text": [
      " 28%|██▊       | 7/25 [04:13<11:14, 37.47s/it]"
     ]
    },
    {
     "name": "stdout",
     "output_type": "stream",
     "text": [
      "\n",
      "Summary from https://www.aspenfasteners.com/shop-by-material/brass/?srsltid=AfmBOooChp_85ebcBfNJLdIgURO908Bl9tgy4bIa0veVQjRzC-tNY3yv:\n",
      "1. machine screws for scale models  \n",
      "   - Reason: To find screws specifically designed or commonly used in model building, ensuring precise dimensions and compatibility.\n",
      "\n",
      "2. miniature brass screws for architecture models  \n",
      "   - Reason: Brass is a durable and aesthetically pleasing material for models, and specifying \"miniature\" ensures the screws are small enough for detailed work.\n",
      "\n",
      "3. 1mm diameter machine screws McMaster-Carr  \n",
      "   - Reason: McMaster-Carr is known for precision parts, and specifying a 1mm diameter caters to the startup's need for exact sizes.\n",
      "\n",
      "4. slotted head screws for model building  \n",
      "   - Reason: Slotted heads provide better control during installation and are commonly used in detailed model work.\n",
      "\n",
      "5. tiny scale model screws bulk purchase  \n",
      "   - Reason: This search targets cost-effective options for multiple uses, ensuring availability in bulk quantities.\n",
      "\n"
     ]
    },
    {
     "name": "stderr",
     "output_type": "stream",
     "text": [
      " 32%|███▏      | 8/25 [04:37<09:24, 33.19s/it]"
     ]
    },
    {
     "name": "stdout",
     "output_type": "stream",
     "text": [
      "\n",
      "Summary from https://www.google.com/search?num=7:\n",
      "### Product Search Queries:\n",
      "1. amazon 6mm diameter x 12mm length coarse thread philips head rust-resistant screws  \n",
      "   **Reasoning:** This search will help you find screws with precise dimensions and features suitable for your scale models. Amazon often has a wide range of fasteners, including rust-resistant options.\n",
      "\n",
      "2. mcmaster-car.fastener diameter 6mm length 12mm coarse thread Phillips head rust resistant  \n",
      "   **Reasoning:** McMaster-Carr specializes in industrial-grade fasteners. This search will help you find high-quality, durable screws for your models.\n",
      "\n",
      "3. aliexpress 6x12 philips head coarse thread rust-proof screws  \n",
      "   **Reasoning:** AliExpress often has a wide range of options at competitive prices. Including \"rust-proof\" ensures you get corrosion-resistant screws.\n",
      "\n",
      "4. boltsrus.com 6mm diameter x 12mm length coarse thread Phillips head rust resistant screws  \n",
      "   **Reasoning:** Boltsrus.com is known for its extensive selection of fasteners. This search will help you find the exact specifications you need.\n",
      "\n",
      "5. rscomponents.com 6mm diameter x 12mm length coarse thread Phillips head rust-resistant screws  \n",
      "   **Reasoning:** RS Components offers a wide range of industrial and mechanical supplies. This search will help you find reliable, high-quality screws for your models.\n",
      "\n",
      "---\n",
      "\n",
      "### Additional Tips:\n",
      "- Look for \"in stock\" options to ensure quick delivery.\n",
      "- Check for bulk pricing if you need multiple packs.\n",
      "- Compare shipping times and costs across vendors.\n",
      "- Read customer reviews for each product to assess quality and reliability.\n",
      "\n"
     ]
    },
    {
     "name": "stderr",
     "output_type": "stream",
     "text": [
      " 36%|███▌      | 9/25 [05:14<09:11, 34.44s/it]"
     ]
    },
    {
     "name": "stdout",
     "output_type": "stream",
     "text": [
      "\n",
      "Summary from https://www.mcmaster.com/products/brass-machine-screws/:\n",
      "1. **miniature screws for scale models**  \n",
      "   - Reasoning: Scale models require small components, so this search will narrow down to tiny screws designed for precise applications.  \n",
      "\n",
      "2. **precision shoulder screws M5 size**  \n",
      "   - Reasoning: Shoulder screws are ideal for industrial and model building applications due to their durability and exact fitment in M5 sizes.  \n",
      "\n",
      "3. **pan head machine screws M1.6 x 4mm**  \n",
      "   - Reasoning: Pan heads provide a flat surface for secure seating, and the M1.6 size is perfect for small-scale projects like scale models.  \n",
      "\n",
      "4. **precision miniature bolts A2 material**  \n",
      "   - Reasoning: A2 stainless steel ensures corrosion resistance and durability, making it ideal for detailed model building.  \n",
      "\n",
      "5. **reliable precision screws McMaster-Carr**  \n",
      "   - Reasoning: McMaster-Carr is a trusted vendor known for high-quality fasteners with exact tolerances, perfect for scale models.\n",
      "\n"
     ]
    },
    {
     "name": "stderr",
     "output_type": "stream",
     "text": [
      " 40%|████      | 10/25 [05:55<09:04, 36.32s/it]"
     ]
    },
    {
     "name": "stdout",
     "output_type": "stream",
     "text": [
      "\n",
      "Summary from https://boltdepot.com/Machine_screws_Slotted_round_head_Brass_8-32?srsltid=AfmBOopwDQKAhx-xLbEQQN_FjR-Y7w7fOq6hDx9rQOHcDtWW9x6DYhou:\n",
      "1. Precision Shoulder Screws McMaster Carr  \n",
      "2. Machine Screws Fastener Superstore Stainless Steel M3  \n",
      "3. Miniature Screws US Micro Brass  \n",
      "4. Slotted Shoulder Screws Accu Components M5  \n",
      "5. Phillips Machine Screws Aspen Fasteners Stainless Steel  \n",
      "\n",
      "Each search term is crafted to include specific attributes like material, size, and vendor, ensuring targeted results for precise needs in scale model architecture.\n",
      "\n"
     ]
    },
    {
     "name": "stderr",
     "output_type": "stream",
     "text": [
      " 44%|████▍     | 11/25 [06:30<08:25, 36.13s/it]"
     ]
    },
    {
     "name": "stdout",
     "output_type": "stream",
     "text": [
      "\n",
      "Summary from https://www.amazon.com/Miniature-Screws/s?k=Miniature+Screws:\n",
      "To assist the architecture startup in finding the ideal screws for their scale model buildings, here's a structured comparison based on the gathered data:\n",
      "\n",
      "### Product Comparison Summary\n",
      "\n",
      "1. **McMaster-Carr (Multiple Listings)**\n",
      "   - **Pros**: Extensive range of options, reliable, quick shipping.\n",
      "   - **Cons**: Higher pricing, may require minimum order quantities.\n",
      "\n",
      "2. **Bolt Depot**\n",
      "   - **Pros**: Good selection of miniature screws, competitive pricing.\n",
      "   - **Cons**: Limited stock availability, longer lead times.\n",
      "\n",
      "3. **Amazon (Multiple Listings)**\n",
      "   - **Pros**: Affordable prices, fast shipping for Prime members.\n",
      "   - **Cons**: Limited customization options, variable product quality based on seller.\n",
      "\n",
      "4. **US Micro Screw**\n",
      "   - **Pros**: Specializes in miniature screws, precise dimensions.\n",
      "   - **Cons**: Higher cost, limited stock availability.\n",
      "\n",
      "5. **Aspen Fasteners**\n",
      "   - **Pros**: Durable materials (brass), reliable.\n",
      "   - **Cons**: Slightly higher pricing, longer shipping times.\n",
      "\n",
      "### Key Considerations\n",
      "\n",
      "- **Purpose**: The screws need to fit exact dimensions for scale models, emphasizing precision and reliability.\n",
      "- **Material Options**: Stainless steel and brass are viable; stainless steel offers corrosion resistance, while brass is durable and aesthetic.\n",
      "- **Thread Size**: M5, M6 are common; ensure they match the scale model requirements.\n",
      "- **Head Type**: Slotted or pan heads available, depending on design preferences.\n",
      "\n",
      "### Recommendation\n",
      "\n",
      "For the architecture startup:\n",
      "- **Best Value**: McMaster-Carr for a wide range and reliability, especially if bulk orders are feasible.\n",
      "- **Cost-Effective**: Amazon Prime for quick delivery and competitive pricing, suitable for smaller orders.\n",
      "- **Precision Fit**: US Micro Screw for miniature screws with exact dimensions.\n",
      "\n",
      "### Conclusion\n",
      "\n",
      "McMaster-Carr is recommended for its extensive selection and reliability, making it ideal for precise scale models. However, considering budget constraints, Amazon offers a cost-effective solution with fast shipping. For miniature needs, US Micro Screw provides the right fit.\n",
      "\n"
     ]
    },
    {
     "name": "stderr",
     "output_type": "stream",
     "text": [
      " 48%|████▊     | 12/25 [07:05<07:43, 35.63s/it]"
     ]
    },
    {
     "name": "stdout",
     "output_type": "stream",
     "text": [
      "\n",
      "Summary from https://www.homedepot.com/b/Hardware-Fasteners-Screws/Fine-Thread/N-5yc1vZc2b0Z1z1z4j6:\n",
      "1. precision shoulder screws stainless steel  \n",
      "2. brass machine screws pan head  \n",
      "3. miniature screws size 6-32  \n",
      "4. stainless steel machine screws hex head  \n",
      "5. corrosion resistant screws for outdoor use  \n",
      "\n",
      "**Reasoning**: These searches target specific screw types with attributes relevant to architectural models, ensuring reliability and precision. Including terms like \"corrosion resistant\" helps in finding durable options suitable for various conditions.\n",
      "\n"
     ]
    },
    {
     "name": "stderr",
     "output_type": "stream",
     "text": [
      " 52%|█████▏    | 13/25 [07:48<07:33, 37.77s/it]"
     ]
    },
    {
     "name": "stdout",
     "output_type": "stream",
     "text": [
      "\n",
      "Summary from https://www.usmicroscrew.com/:\n",
      "1. \"M2-5 machine screw\"  \n",
      "   - Look for small, precise screws in a common size used for scale models. Stainless steel is ideal for durability.\n",
      "\n",
      "2. \"Miniature brass slotted screw set\"  \n",
      "   - Brass offers corrosion resistance, and slotted heads are easy to align during assembly.\n",
      "\n",
      "3. \"M3-5 fine thread Phillips screw\"  \n",
      "   - Fine threads provide a secure fit, and Phillips heads work well with standard tools.\n",
      "\n",
      "4. \"US Micro Screw M2 precision screws\"  \n",
      "   - Specializes in tiny, high-precision screws for architectural models.\n",
      "\n",
      "5. \"McMaster-Carr M3 machine screw kit\"  \n",
      "   - Known for industrial-quality fasteners, McMaster-Carr offers reliable options for scale models.\n",
      "\n",
      "6. \"Stainless steel M2-5 button head screw\"  \n",
      "   - A secure and attractive option for detailed models.\n",
      "\n",
      "7. \"Brass M3 fine thread screw bulk pricing\"  \n",
      "   - Look for cost-effective bulk options if you need multiple screws.\n",
      "\n",
      "8. \"Scale model miniature screw set reviews\"  \n",
      "   - Check customer feedback to ensure the screws meet your needs.\n",
      "\n",
      "9. \"M2-5 x 10mm length machine screw\"  \n",
      "   - Specify the length to match your scale model requirements.\n",
      "\n",
      "10. \"Phillips head micro screw set for architecture models\"  \n",
      "    - Tailored for architectural and model-building applications.\n",
      "\n"
     ]
    },
    {
     "name": "stderr",
     "output_type": "stream",
     "text": [
      " 56%|█████▌    | 14/25 [08:40<07:44, 42.26s/it]"
     ]
    },
    {
     "name": "stdout",
     "output_type": "stream",
     "text": [
      "\n",
      "Summary from https://cs.finescale.com/fsm/tools_techniques_and_reference_materials/f/53/t/163525.aspx:\n",
      "1. McMaster-Carr M2-5 machine screw  \n",
      "   - Look for precision miniature screws ideal for engineering and model building.\n",
      "\n",
      "2. Bolt Depot machine screw coarse thread  \n",
      "   - Search for industrial-grade machine screws with reliable quality and sizing.\n",
      "\n",
      "3. US Micro Screw miniature fastener  \n",
      "   - Find tiny, high-quality fasteners for detailed projects.\n",
      "\n",
      "4. Amazon M2-5 x 0.45 x 4 machine screw  \n",
      "   - Locate quick-shipping options for standard machine screw sizes.\n",
      "\n",
      "5. Homedepot bulk machine screw order  \n",
      "   - Search for cost-effective solutions for large-scale projects or industrial use.\n",
      "\n"
     ]
    },
    {
     "name": "stderr",
     "output_type": "stream",
     "text": [
      " 60%|██████    | 15/25 [09:25<07:10, 43.06s/it]"
     ]
    },
    {
     "name": "stdout",
     "output_type": "stream",
     "text": [
      "\n",
      "Summary from https://forum.bambulab.com/t/what-kind-of-screws-should-be-prepared-for-small-projects/34494:\n",
      "1. M3 FHCS Screws  \n",
      "2. M5 SHCS Screws  \n",
      "3. Precision Miniature Screws (M2-M3)  \n",
      "4. Metric Thread Size Chart  \n",
      "5. Custom Screw Manufacturing  \n",
      "\n",
      "---\n",
      "\n",
      "**Brief Reasoning for These Entries:**  \n",
      "1. **M3 FHCS Screws**: Fine Hex Chamfered Socket (FHCS) screws are ideal for precise applications and provide a secure fit in scale models.  \n",
      "2. **M5 SHCS Screws**: Socket Head Cap Screws (SHCS) are commonly used in architectural models due to their flush fit and aesthetic appeal.  \n",
      "3. **Precision Miniature Screws (M2-M3)**: These screws are designed for small-scale applications, ensuring durability and reliability in detailed models.  \n",
      "4. **Metric Thread Size Chart**: This will help ensure compatibility with your screw selection by matching the thread size to your model's requirements.  \n",
      "5. **Custom Screw Manufacturing**: If standard sizes aren't sufficient, custom manufacturing can provide tailored solutions for unique project needs.\n",
      "\n"
     ]
    },
    {
     "name": "stderr",
     "output_type": "stream",
     "text": [
      " 64%|██████▍   | 16/25 [10:08<06:27, 43.05s/it]"
     ]
    },
    {
     "name": "stdout",
     "output_type": "stream",
     "text": [
      "\n",
      "Summary from https://www.homedepot.com/b/Hardware-Fasteners-Screws-Machine-Screws/Coarse/N-5yc1vZc27iZ1z0ygob:\n",
      "1. McMaster-Carr precision stainless steel machine screws  \n",
      "   - **Reasoning**: McMaster-Carr is known for high-quality industrial parts, and stainless steel offers durability and corrosion resistance, essential for architectural models.\n",
      "\n",
      "2. Bolt Depot miniature machine screws in brass  \n",
      "   - **Reasoning**: Miniature screws are ideal for scale models, and brass provides a decorative finish suitable for architectural designs.\n",
      "\n",
      "3. Aspen Fasteners slotted head precision screws  \n",
      "   - **Reasoning**: Slotted heads allow for precise placement during assembly, crucial for detailed architectural models.\n",
      "\n",
      "4. US Micro Screw size 0-80 stainless steel machine screws  \n",
      "   - **Reasoning**: Size 0-80 is a common miniature screw size used in scale models, and stainless steel ensures durability and resistance to wear.\n",
      "\n",
      "5. Amazon miniature precision screws for model building  \n",
      "   - **Reasoning**: Amazon offers a wide range of products, including specialized screws for model building, providing flexibility and variety.\n",
      "\n",
      "6. Home Depot #4-40 coarse thread machine screws  \n",
      "   - **Reasoning**: Coarse thread screws are easier to handle and install, suitable for quick assembly in scale models.\n",
      "\n",
      "7. Fastco Inc. FCO-2830 flat head machine screws  \n",
      "   - **Reasoning**: Flat head screws provide a sleek appearance, ideal for architectural designs, and Fastco is known for reliable fasteners.\n",
      "\n",
      "8. Architectural model supply store miniature screws  \n",
      "   - **Reasoning**: Specialized suppliers cater to specific needs, offering tailored solutions for scale models in architecture.\n",
      "\n"
     ]
    },
    {
     "name": "stderr",
     "output_type": "stream",
     "text": [
      " 68%|██████▊   | 17/25 [10:44<05:28, 41.01s/it]"
     ]
    },
    {
     "name": "stdout",
     "output_type": "stream",
     "text": [
      "\n",
      "Summary from https://www.fastcoinc.com/screws/machine-screws:\n",
      "1. pan head machine screws exact dimensions  \n",
      "   - Look for machine screws with precise sizing to match the architect's requirements.\n",
      "\n",
      "2. stainless steel pan head machine screws reviews  \n",
      "   - Check customer feedback on stainless steel options for durability and quality.\n",
      "\n",
      "3. miniature pan head machine screws price comparison  \n",
      "   - Search for miniature sizes and compare pricing across vendors.\n",
      "\n",
      "4. custom sized pan head machine screws availability  \n",
      "   - Look for suppliers offering customization to meet exact project needs.\n",
      "\n",
      "5. fastco vs mcmaster pan head machine screws customer reviews  \n",
      "   - Compare reviews of Fastco and McMaster-Carr to assess reliability and quality.\n",
      "\n",
      "6. pan head machine screws zinc coating corrosion resistance  \n",
      "   - Focus on products with zinc coatings for added protection against rust.\n",
      "\n",
      "7. scale model miniature screw specifications  \n",
      "   - Search for screws specifically designed for small-scale applications like model building.\n",
      "\n",
      "8. pan head machine screw thread quality  \n",
      "   - Look for high-quality threads to ensure precise and reliable fastening.\n",
      "\n",
      "9. architect scale model fasteners exact dimensions  \n",
      "   - Find fasteners tailored to the specific needs of architectural models.\n",
      "\n",
      "10. pan head machine screws shipping times pricing  \n",
      "    - Compare vendors based on shipping schedules and costs for timely delivery within budget.\n",
      "\n"
     ]
    },
    {
     "name": "stderr",
     "output_type": "stream",
     "text": [
      " 72%|███████▏  | 18/25 [11:20<04:35, 39.32s/it]"
     ]
    },
    {
     "name": "stdout",
     "output_type": "stream",
     "text": [
      "\n",
      "Summary from https://www.amazon.com/Machine-Phillips-Stainless-Finish%EF%BC%8C-Threaded/dp/B08NV53LVL:\n",
      "1. Miniature Machine Screws for Scale Models  \n",
      "   - Targets small-scale applications with precise dimensions.\n",
      "\n",
      "2. Precision Machined Screws M2 M3 Sizes  \n",
      "   - Focuses on specific sizes suitable for architectural models.\n",
      "\n",
      "3. Reliable miniature brass screws for architecture models  \n",
      "   - Filters by durable and common material used in scale models.\n",
      "\n",
      "4. Durable stainless steel machine screws for precision use  \n",
      "   - Seeks corrosion-resistant, long-lasting options.\n",
      "\n",
      "5. Where to buy exact fit miniature screws for architectural models  \n",
      "   - Aims to identify reliable suppliers known for precise products.\n",
      "\n",
      "These searches are crafted to efficiently locate the necessary supplies, ensuring both quality and applicability for the user's specific needs in creating scale model buildings.\n",
      "\n"
     ]
    },
    {
     "name": "stderr",
     "output_type": "stream",
     "text": [
      " 76%|███████▌  | 19/25 [12:00<03:58, 39.72s/it]"
     ]
    },
    {
     "name": "stdout",
     "output_type": "stream",
     "text": [
      "\n",
      "Summary from https://www.asmc.net/m2-5-x-0-45-x-4-coarse-thread-iso-7045-machine-screw-6-lobe-pan-head-stainless-steel-18-8/:\n",
      "1. precision miniature machine screws  \n",
      "2. M5 machine screws fine thread pan head  \n",
      "3. stainless steel miniature machine screws polished finish  \n",
      "4. scale model building fasteners  \n",
      "5. US Micro Screw M5 machine screws  \n",
      "\n",
      "---\n",
      "\n",
      "**Brief Reasoning**:  \n",
      "- **Precision Miniature Machine Screws**: Targets the specific need for small, precise screws used in scale models.  \n",
      "- **M5 Machine Screws Fine Thread Pan Head**: Specifies the diameter and thread type, ensuring compatibility with detailed model work.  \n",
      "- **Stainless Steel Miniature Machine Screws Polished Finish**: Focuses on durability and aesthetics, as polished finishes are often preferred for models.  \n",
      "- **Scale Model Building Fasteners**: Narrowly targets fasteners designed for scale model applications, ensuring relevance.  \n",
      "- **US Micro Screw M5 Machine Screws**: Directs the search to a trusted supplier of miniature screws, with clear specifications.\n",
      "\n"
     ]
    },
    {
     "name": "stderr",
     "output_type": "stream",
     "text": [
      " 80%|████████  | 20/25 [12:41<03:19, 39.98s/it]"
     ]
    },
    {
     "name": "stdout",
     "output_type": "stream",
     "text": [
      "\n",
      "Summary from https://boltdepot.com/Machine_screws_Phillips_flat_head_Stainless_steel_18-8_Coarse_(standard)_thread?srsltid=AfmBOoptb6_88jQbkXLWMDHC-zdyetBEYBvgCBEeF7qgiHJYS3zdDZmW:\n",
      "1. **Precision machine screws for scale models**  \n",
      "   - Look for small-sized screws with exact measurements (e.g., 0.5mm diameter or smaller).  \n",
      "\n",
      "2. **Machine screws with Allen wrench drive, brass or stainless steel**  \n",
      "   - Ensure the screws are made of durable materials suitable for detailed architectural models.  \n",
      "\n",
      "3. **Miniature machine screws for precise applications**  \n",
      "   - Search for screws designed for small-scale projects to ensure they meet your size requirements.  \n",
      "\n",
      "4. **Scaled-down fasteners for architectural models**  \n",
      "   - Focus on fasteners specifically designed for model building or miniatures.  \n",
      "\n",
      "5. **Affordable machine screws with quick shipping times**  \n",
      "   - Look for cost-effective options that also offer fast delivery, ideal for small startups or hobbyists.\n",
      "\n"
     ]
    },
    {
     "name": "stderr",
     "output_type": "stream",
     "text": [
      " 84%|████████▍ | 21/25 [13:15<02:33, 38.29s/it]"
     ]
    },
    {
     "name": "stdout",
     "output_type": "stream",
     "text": [
      "\n",
      "Summary from https://www.mcmaster.com/products/miniature-screws/:\n",
      "1. \"miniature machine screws for scale models\"  \n",
      "   - Focuses on finding screws specifically designed for small-scale applications.\n",
      "\n",
      "2. \"stainless steel miniature screws for architectural models\"  \n",
      "   - Targets durable and corrosion-resistant screws suitable for long-term use in architectural models.\n",
      "\n",
      "3. \"precision screws with exact dimensions for scale replicas\"  \n",
      "   - Emphasizes the importance of precise sizing, which is critical for scale models.\n",
      "\n",
      "4. \"reliable shoulder screws for small-scale construction projects\"  \n",
      "   - Highlights the need for durability and stability in structural applications.\n",
      "\n",
      "5. \"small quantity custom-sized screws for architectural prototypes\"  \n",
      "   - Focuses on vendors who can supply small batches or custom sizes, ideal for startups or prototype development.\n",
      "\n",
      "These searches will help narrow down options based on size, material, precision, reliability, and availability in small quantities.\n",
      "\n"
     ]
    },
    {
     "name": "stderr",
     "output_type": "stream",
     "text": [
      " 88%|████████▊ | 22/25 [13:57<01:58, 39.39s/it]"
     ]
    },
    {
     "name": "stdout",
     "output_type": "stream",
     "text": [
      "\n",
      "Summary from https://www.mcmaster.com/products/screws/:\n",
      "Here’s a list of search queries and key product attributes to help you find the desired screws for your architecture startup's scale replica project:\n",
      "\n",
      "1. precision shoulder screws M2  \n",
      "   - Look for: Small diameter (M2), precise fit, durable material.\n",
      "\n",
      "2. brass machine screws M3  \n",
      "   - Look for: Aesthetic appeal, corrosion resistance, medium size (M3).\n",
      "\n",
      "3. stainless steel machine screws fine thread  \n",
      "   - Look for: High durability, secure grip with fine threads.\n",
      "\n",
      "4. slotted head screws for scale models  \n",
      "   - Look for: Easy installation, versatile use in tight spaces.\n",
      "\n",
      "5. M2 precision screws for model building  \n",
      "   - Look for: Small size, high precision for detailed work.\n",
      "\n",
      "These search terms focus on specific attributes to help you find the right products efficiently.\n",
      "\n"
     ]
    },
    {
     "name": "stderr",
     "output_type": "stream",
     "text": [
      " 92%|█████████▏| 23/25 [14:37<01:19, 39.60s/it]"
     ]
    },
    {
     "name": "stdout",
     "output_type": "stream",
     "text": [
      "\n",
      "Summary from https://www.mcmaster.com/products/miniature-bolts/:\n",
      "1. precision stainless steel screws M5 socket cap head  \n",
      "   Reasoning: Specifies material (stainless steel), size (M5), and head type (socket cap) for industrial-grade precision.\n",
      "\n",
      "2. high-quality brass machine screws M6 fine thread  \n",
      "   Reasoning: Offers a cost-effective alternative to stainless steel while specifying thread type (fine) and size (M6).\n",
      "\n",
      "3. miniature steel screws M5 slotted head for precise assembly  \n",
      "   Reasoning: Targets small-scale projects with specific focus on size (M5) and head type (slotted).\n",
      "\n",
      "4. industrial-grade titanium screws M6 Phillips head  \n",
      "   Reasoning: Provides a premium option with high strength-to-weight ratio, specifying size and head type.\n",
      "\n",
      "5. budget-friendly steel machine screws M5 coarse thread  \n",
      "   Reasoning: Focuses on affordability while maintaining necessary durability and thread type (coarse).\n",
      "\n"
     ]
    },
    {
     "name": "stderr",
     "output_type": "stream",
     "text": [
      " 96%|█████████▌| 24/25 [15:20<00:40, 40.53s/it]"
     ]
    },
    {
     "name": "stdout",
     "output_type": "stream",
     "text": [
      "\n",
      "Summary from https://www.reddit.com/r/AskEngineers/comments/132yx4j/mcmastercarr_bulkproduction_machine_screw/:\n",
      "1. precision machine screws McMaster-Carr  \n",
      "   - McMaster-Carr offers a wide range of precision machine screws in various sizes and materials, making it ideal for small-scale production or prototyping.\n",
      "\n",
      "2. bulk machine screws Bolt Depot  \n",
      "   - Bolt Depot specializes in bulk pricing for larger orders, which is perfect for production needs.\n",
      "\n",
      "3. miniature machine screws USMicroScrew  \n",
      "   - USMicroScrew focuses on miniature screws, making it a great option for applications like architectural scale models.\n",
      "\n",
      "4. stainless steel machine screws McMaster-Carr  \n",
      "   - Stainless steel machine screws from McMaster-Carr are durable and resistant to corrosion, ideal for long-lasting use.\n",
      "\n",
      "5. fasteners stainless steel Phillips head Amazon  \n",
      "   - Amazon offers a variety of fasteners with quick shipping options, including stainless steel Phillips head screws that are both affordable and reliable.\n",
      "\n"
     ]
    },
    {
     "name": "stderr",
     "output_type": "stream",
     "text": [
      "100%|██████████| 25/25 [15:59<00:00, 38.38s/it]\n"
     ]
    },
    {
     "name": "stdout",
     "output_type": "stream",
     "text": [
      "\n",
      "Summary from https://www.mcmaster.com/:\n",
      "1. precision machine screws M5x6  \n",
      "2. miniature stainless steel bolts 14-20 thread  \n",
      "3. Accu-components slotted shoulder screw model 50458-SFHZ-M5-6-A2  \n",
      "4. McMaster-Carr precision machine screws for scale models  \n",
      "5. brass pan head screws for architectural scale models\n",
      "\n",
      "<think>\n",
      "Okay, so I'm trying to help someone who's working on a scale replica for an architecture startup. They mentioned they need well-machined screws that fit exact dimensions and are reliable. Let me think through how to approach this.\n",
      "\n",
      "First, understanding the use case: it's a scale model of buildings, which means precision is key. The screws need to be small but sturdy enough to hold the structure without being too bulky. They probably need consistency in size and thread so that they fit properly into their models.\n",
      "\n",
      "Looking at the URLs provided, I see references to various suppliers like McMaster-Carr, Bolt Depot, Aspen Fasteners, etc. From what I know, McMaster-Carr is a reliable source for industrial-grade fasteners with a good selection of sizes and materials. They have a reputation for quality and precision, which seems important here.\n",
      "\n",
      "In the query response, they mentioned machine screws and shoulder screws. Shoulder screws seem like a good fit because they're designed to provide a secure hold without damaging the material they're screwed into. That's probably crucial for delicate scale models where you don't want to mar the surface.\n",
      "\n",
      "I also notice that materials matter. Stainless steel is often used in such applications because it's durable and resistant to corrosion, which would be important if the models are going to be handled or exposed to elements over time. Brass is another option, but I think stainless steel might offer better longevity and strength for structural integrity.\n",
      "\n",
      "Looking at specific products from the URLs: McMaster-Carr has a range of precision shoulder screws in different sizes. The user needs exact dimensions, so having options with precise specifications would be beneficial. They also mentioned Miniature Screws on Amazon, which could be useful if they need very small fasteners.\n",
      "\n",
      "Bolt Depot and Aspen Fasteners are other reputable suppliers that offer machine screws in various materials. It's worth checking their offerings to see if they have the exact sizes or types needed. For instance, slotted head screws might be easier to handle during assembly compared to Phillips heads, depending on the tools available.\n",
      "\n",
      "Another consideration is thread type: fine vs. coarse. Fine threads provide better grip but are more delicate, while coarse threads are stronger and easier to work with. Since it's a scale model, maybe they need something that's both precise and durable, so perhaps a medium or fine thread would be better for tight assembly without stripping.\n",
      "\n",
      "Cost is another factor. McMaster-Carr often offers bulk options, which could be beneficial if the startup needs multiple screws. However, other suppliers might offer better pricing for smaller quantities. It's important to compare prices and supplier reviews for reliability and customer service.\n",
      "\n",
      "In terms of recommendations, I think suggesting McMaster-Carr as the primary source makes sense because they have a wide range of options and are known for their quality. They also provide detailed specifications which is crucial for exact dimensions. Additionally, considering Bolt Depot or Aspen Fasteners as alternatives could be helpful in case McMaster-Carr doesn't have exactly what's needed.\n",
      "\n",
      "I should also consider mentioning specific product types from these suppliers. For example, the precision shoulder screws from McMaster might be ideal, and their miniature screws could cover any small-scale needs. On Amazon, checking for machine screws with stainless steel and exact sizes could be another avenue, though McMaster is likely more reliable for consistency.\n",
      "\n",
      "Lastly, ensuring that the screws are compatible with the materials used in the scale models—whether wood, plastic, or metal—is important. The screws should have threads that match the material to ensure a secure fit without stripping.\n",
      "\n",
      "Overall, the key points are precision, reliability, exact dimensions, and material quality. McMaster-Carr seems like the top recommendation because of their extensive selection and reputation, but it's good to have alternatives in case specific needs aren't met.\n",
      "</think>\n",
      "\n",
      "To address the need for precise and reliable screws for a scale replica project, here is a structured recommendation:\n",
      "\n",
      "### Key Considerations:\n",
      "1. **Precision and Reliability**: The screws must be machined to exact dimensions to ensure structural integrity without being bulky.\n",
      "2. **Material Choice**: Stainless steel is recommended for durability and resistance to corrosion, suitable for handling and potential exposure.\n",
      "3. **Thread Type**: Fine threads offer better grip, which is crucial for precise assembly in scale models.\n",
      "\n",
      "### Supplier Recommendations:\n",
      "1. **McMaster-Carr**:\n",
      "   - **Why?** Known for high-quality industrial-grade fasteners with a wide range of sizes and materials.\n",
      "   - **Products to Consider**: Precision shoulder screws and miniature screws, available in various sizes and thread types.\n",
      "   - **Advantages**: Offers detailed specifications and bulk options for quantity needs.\n",
      "\n",
      "2. **Bolt Depot**:\n",
      "   - **Why?** A reputable supplier offering machine screws in different materials and sizes.\n",
      "   - **Products to Consider**: Slotted head screws for ease of assembly, available in stainless steel.\n",
      "\n",
      "3. **Aspen Fasteners**:\n",
      "   - **Why?** Provides reliable fasteners with a focus on quality and consistency.\n",
      "   - **Products to Consider**: Stainless steel machine screws, ideal for structural integrity.\n",
      "\n",
      "4. **Amazon** (for Miniature Screws):\n",
      "   - **Why?** Useful for specific small-scale needs if McMaster-Carr doesn't have the exact requirement.\n",
      "\n",
      "### Additional Tips:\n",
      "- **Material Compatibility**: Ensure the screws are compatible with the model's material (wood, plastic, metal) to prevent stripping and ensure a secure fit.\n",
      "- **Cost Considerations**: Compare pricing across suppliers, considering bulk options from McMaster-Carr for quantity needs.\n",
      "\n",
      "By focusing on these suppliers and considerations, you can achieve precise and reliable fasteners essential for your scale replica project.\n"
     ]
    }
   ],
   "source": [
    "user_input = True\n",
    "user_input = input(\"Describe what you're looking for: \")\n",
    "f = open(\"report.txt\", \"x\")\n",
    "f = open(\"report.txt\", \"a\")\n",
    "while (user_input):\n",
    "\n",
    "    print(\"\\n[1] Interpreting query...\")\n",
    "    f.write(\"\\n[1] Interpreting query...\")\n",
    "    interpreted = str(interpret_user_query(user_input))\n",
    "    filtered = (interpreted[interpreted.index('</think>') + 8:].rstrip()).strip()\n",
    "    print(filtered)\n",
    "    f.write(filtered)\n",
    "    print(\"\\n[2] Researching Reccommended Products\")\n",
    "    f.write(\"\\n[2] Researching Reccommended Products\")\n",
    "    search_query_list = extract_entries(filtered) \n",
    "    global_url = 0\n",
    "    all_urls = []\n",
    "    for search_query in search_query_list:\n",
    "        urls = get_search_results(search_query)\n",
    "        all_urls.extend(urls)\n",
    "        for i, url in enumerate(urls):\n",
    "            print(f\"[{global_url+i+1}] {url}\")\n",
    "            f.write(f\"[{global_url+i+1}] {url}\")\n",
    "        global_url += 5\n",
    "    print(\"\\n[3] Scraping and summarizing...\")\n",
    "    f.write(\"\\n[3] Scraping and summarizing...\")\n",
    "    for i in tqdm(range(len(all_urls))):\n",
    "        raw_data = scrape_product_data(all_urls[i])\n",
    "        summary = summarize_scraped_data(raw_data, user_input, all_urls)\n",
    "        summary = str(interpret_user_query(summary))\n",
    "        filtered_summary = (summary[summary.index('</think>') + 8:].rstrip()).strip()\n",
    "        print(f\"\\nSummary from {all_urls[i]}:\\n{filtered_summary}\\n\")\n",
    "        f.write(f\"\\nSummary from {all_urls[i]}:\\n{filtered_summary}\\n\")\n",
    "    user_prompt = input(\"Are you satisified with this analysis? : Yes / No\")\n",
    "    if (user_prompt == 'Yes'):\n",
    "        user_input = False\n",
    "    else:\n",
    "        user_feeedback = input(\"What changes should be made?\")\n",
    "        feedback = provide_feedback(user_feeedback, all_urls, user_input)\n",
    "        print (feedback)\n",
    "        f.write(feedback)\n",
    "        user_input = False\n",
    "    f.close()\n",
    "\n",
    "    \n",
    "\n",
    "        \n"
   ]
  },
  {
   "cell_type": "code",
   "execution_count": 19,
   "metadata": {},
   "outputs": [
    {
     "name": "stdout",
     "output_type": "stream",
     "text": [
      "['https://randomnerdtutorials.com/esp32-lora-rfm95-transceiver-arduino-ide/', 'https://www.aliexpress.com/item/10000290160030.html', 'https://heltec.org/project/wifi-lora-32-v3/', 'https://www.aliexpress.com/i/32957042456.html', 'https://circuitdigest.com/microcontroller-projects/interfacing-sx1278-lora-module-with-esp32', 'https://www.st.com/en/evaluation-tools/32l496gdiscovery.html', 'https://www.digikey.com/en/products/detail/stmicroelectronics/STM32L496G-DISCO/6697038', 'https://www.st.com/content/st_com/en/products/evaluation-tools/product-evaluation-tools/mcu-eval-tools/stm32-mcu-eval-tools/stm32-mcu-discovery-kits/32l496gdiscovery.html', 'https://www.mouser.com/ProductDetail/STMicroelectronics/STM32L496G-DISCO?qs=GFgPWxtVJSbWvqPi%252BdpPVw%3D%3D&srsltid=AfmBOorZEHF9AinTbkgvskc1CaA636F7th7WJoWoVIoDXYqaMKpvNiSt', 'https://docs.zephyrproject.org/latest/boards/st/stm32l496g_disco/doc/index.html', 'https://www.nordicsemi.com/Products/nRF52833', 'https://www.nordicsemi.com/Products/Development-hardware/nRF52833-DK', 'https://github.com/square/pylink/issues/217', 'https://www.mouser.com/new/nordic-semiconductor/nordic-nrf52833-soc/?srsltid=AfmBOor6hFv69dQcoRoKcESNuIXFnVY4RRG9m8OBUn8_aKgeevMv0Me8', 'https://www.digikey.com/en/products/detail/nordic-semiconductor-asa/NRF52833-QDAA-R/13996159', 'https://www.ti.com/tool/LAUNCHXL-CC2650', 'https://dev.ti.com/launchxl-cc2650', 'https://twen.rs-online.com/web/p/microcontroller-development-tools/2355157?srsltid=AfmBOooaBN2ZPiKtVp25G1GB13fprLPeMEhhu4Lgpxm_FAdQsv1yPWQs', 'https://www.youtube.com/watch?v=aXraiNWsjVg', 'https://datasheet.octopart.com/LAUNCHXL-CC2650-Texas-Instruments-datasheet-62115782.pdf', 'https://www.renesas.com/en/products/microcontrollers-microprocessors/rl78-low-power-8-16-bit-mcus?srsltid=AfmBOorGb11pIRpRd1cPb4wCOjPmZmdtPwkyo0Pch50JtxqU1HgPjmcL', 'https://lv.mouser.com/pdfDocs/r01cp0003ej1100-rl78.pdf', 'https://www.renesas.com/en/products/microcontrollers-microprocessors/rl78-low-power-8-16-bit-mcus/rl78g1e-microcontrollers-built-smart-analog-sensor-and-measurement-applications?srsltid=AfmBOorzw2URd6qPsppUqxZQFstrah06YLeomzHYxAMnwJnUrWBFboin', 'https://docs.rs-online.com/6c8c/0900766b8168ea11.pdf', 'https://www.renesas.com/en/products/microcontrollers-microprocessors/rl78-low-power-8-16-bit-mcus/rl78i1e-high-precision-analog-microcontroller-configurable-afe?srsltid=AfmBOopMEAriC-AJDAKIauhoPE_V0-s7zzJx3ChxLOLmLtGyE521CHnV']\n"
     ]
    }
   ],
   "source": [
    "print (all_urls)"
   ]
  }
 ],
 "metadata": {
  "kernelspec": {
   "display_name": "tf",
   "language": "python",
   "name": "python3"
  },
  "language_info": {
   "codemirror_mode": {
    "name": "ipython",
    "version": 3
   },
   "file_extension": ".py",
   "mimetype": "text/x-python",
   "name": "python",
   "nbconvert_exporter": "python",
   "pygments_lexer": "ipython3",
   "version": "3.9.19"
  }
 },
 "nbformat": 4,
 "nbformat_minor": 2
}
